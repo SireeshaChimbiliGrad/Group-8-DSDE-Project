{
 "cells": [
  {
   "cell_type": "code",
   "execution_count": 5,
   "id": "6554bcde",
   "metadata": {},
   "outputs": [
    {
     "ename": "ValueError",
     "evalue": "Must setup local AWS configuration with a region supported by SageMaker.",
     "output_type": "error",
     "traceback": [
      "\u001b[1;31m---------------------------------------------------------------------------\u001b[0m",
      "\u001b[1;31mValueError\u001b[0m                                Traceback (most recent call last)",
      "Cell \u001b[1;32mIn[5], line 14\u001b[0m\n\u001b[0;32m     11\u001b[0m \u001b[39mfrom\u001b[39;00m \u001b[39msagemaker\u001b[39;00m\u001b[39m.\u001b[39;00m\u001b[39mpredictor\u001b[39;00m \u001b[39mimport\u001b[39;00m csv_serializer\n\u001b[0;32m     13\u001b[0m \u001b[39m# Define IAM role\u001b[39;00m\n\u001b[1;32m---> 14\u001b[0m role \u001b[39m=\u001b[39m get_execution_role()\n\u001b[0;32m     15\u001b[0m prefix \u001b[39m=\u001b[39m \u001b[39m'\u001b[39m\u001b[39msagemaker/DEMO-xgboost-dm\u001b[39m\u001b[39m'\u001b[39m\n\u001b[0;32m     16\u001b[0m my_region \u001b[39m=\u001b[39m \u001b[39m'\u001b[39m\u001b[39mus-east-1\u001b[39m\u001b[39m'\u001b[39m \u001b[39m# set the region of the instance\u001b[39;00m\n",
      "File \u001b[1;32mc:\\Users\\Sireesha Chimbili\\AppData\\Local\\Programs\\Python\\Python311\\Lib\\site-packages\\sagemaker\\session.py:5863\u001b[0m, in \u001b[0;36mget_execution_role\u001b[1;34m(sagemaker_session)\u001b[0m\n\u001b[0;32m   5852\u001b[0m \u001b[39m\u001b[39m\u001b[39m\"\"\"Return the role ARN whose credentials are used to call the API.\u001b[39;00m\n\u001b[0;32m   5853\u001b[0m \n\u001b[0;32m   5854\u001b[0m \u001b[39mThrows an exception if role doesn't exist.\u001b[39;00m\n\u001b[1;32m   (...)\u001b[0m\n\u001b[0;32m   5860\u001b[0m \u001b[39m    (str): The role ARN\u001b[39;00m\n\u001b[0;32m   5861\u001b[0m \u001b[39m\"\"\"\u001b[39;00m\n\u001b[0;32m   5862\u001b[0m \u001b[39mif\u001b[39;00m \u001b[39mnot\u001b[39;00m sagemaker_session:\n\u001b[1;32m-> 5863\u001b[0m     sagemaker_session \u001b[39m=\u001b[39m Session()\n\u001b[0;32m   5864\u001b[0m arn \u001b[39m=\u001b[39m sagemaker_session\u001b[39m.\u001b[39mget_caller_identity_arn()\n\u001b[0;32m   5866\u001b[0m \u001b[39mif\u001b[39;00m \u001b[39m\"\u001b[39m\u001b[39m:role/\u001b[39m\u001b[39m\"\u001b[39m \u001b[39min\u001b[39;00m arn:\n",
      "File \u001b[1;32mc:\\Users\\Sireesha Chimbili\\AppData\\Local\\Programs\\Python\\Python311\\Lib\\site-packages\\sagemaker\\session.py:213\u001b[0m, in \u001b[0;36mSession.__init__\u001b[1;34m(self, boto_session, sagemaker_client, sagemaker_runtime_client, sagemaker_featurestore_runtime_client, default_bucket, settings, sagemaker_metrics_client, sagemaker_config)\u001b[0m\n\u001b[0;32m    210\u001b[0m \u001b[39mself\u001b[39m\u001b[39m.\u001b[39mlambda_client \u001b[39m=\u001b[39m \u001b[39mNone\u001b[39;00m\n\u001b[0;32m    211\u001b[0m \u001b[39mself\u001b[39m\u001b[39m.\u001b[39msettings \u001b[39m=\u001b[39m settings\n\u001b[1;32m--> 213\u001b[0m \u001b[39mself\u001b[39;49m\u001b[39m.\u001b[39;49m_initialize(\n\u001b[0;32m    214\u001b[0m     boto_session\u001b[39m=\u001b[39;49mboto_session,\n\u001b[0;32m    215\u001b[0m     sagemaker_client\u001b[39m=\u001b[39;49msagemaker_client,\n\u001b[0;32m    216\u001b[0m     sagemaker_runtime_client\u001b[39m=\u001b[39;49msagemaker_runtime_client,\n\u001b[0;32m    217\u001b[0m     sagemaker_featurestore_runtime_client\u001b[39m=\u001b[39;49msagemaker_featurestore_runtime_client,\n\u001b[0;32m    218\u001b[0m     sagemaker_metrics_client\u001b[39m=\u001b[39;49msagemaker_metrics_client,\n\u001b[0;32m    219\u001b[0m     sagemaker_config\u001b[39m=\u001b[39;49msagemaker_config,\n\u001b[0;32m    220\u001b[0m )\n",
      "File \u001b[1;32mc:\\Users\\Sireesha Chimbili\\AppData\\Local\\Programs\\Python\\Python311\\Lib\\site-packages\\sagemaker\\session.py:240\u001b[0m, in \u001b[0;36mSession._initialize\u001b[1;34m(self, boto_session, sagemaker_client, sagemaker_runtime_client, sagemaker_featurestore_runtime_client, sagemaker_metrics_client, sagemaker_config)\u001b[0m\n\u001b[0;32m    238\u001b[0m \u001b[39mself\u001b[39m\u001b[39m.\u001b[39m_region_name \u001b[39m=\u001b[39m \u001b[39mself\u001b[39m\u001b[39m.\u001b[39mboto_session\u001b[39m.\u001b[39mregion_name\n\u001b[0;32m    239\u001b[0m \u001b[39mif\u001b[39;00m \u001b[39mself\u001b[39m\u001b[39m.\u001b[39m_region_name \u001b[39mis\u001b[39;00m \u001b[39mNone\u001b[39;00m:\n\u001b[1;32m--> 240\u001b[0m     \u001b[39mraise\u001b[39;00m \u001b[39mValueError\u001b[39;00m(\n\u001b[0;32m    241\u001b[0m         \u001b[39m\"\u001b[39m\u001b[39mMust setup local AWS configuration with a region supported by SageMaker.\u001b[39m\u001b[39m\"\u001b[39m\n\u001b[0;32m    242\u001b[0m     )\n\u001b[0;32m    244\u001b[0m \u001b[39mself\u001b[39m\u001b[39m.\u001b[39msagemaker_client \u001b[39m=\u001b[39m sagemaker_client \u001b[39mor\u001b[39;00m \u001b[39mself\u001b[39m\u001b[39m.\u001b[39mboto_session\u001b[39m.\u001b[39mclient(\u001b[39m\"\u001b[39m\u001b[39msagemaker\u001b[39m\u001b[39m\"\u001b[39m)\n\u001b[0;32m    245\u001b[0m prepend_user_agent(\u001b[39mself\u001b[39m\u001b[39m.\u001b[39msagemaker_client)\n",
      "\u001b[1;31mValueError\u001b[0m: Must setup local AWS configuration with a region supported by SageMaker."
     ]
    }
   ],
   "source": [
    "# import libraries\n",
    "import boto3\n",
    "import boto3, re, sys, math, json, os, sagemaker, urllib.request\n",
    "from sagemaker import get_execution_role\n",
    "import numpy as np\n",
    "import pandas as pd\n",
    "import matplotlib.pyplot as plt\n",
    "from IPython.display import Image\n",
    "from IPython.display import display\n",
    "from time import gmtime, strftime\n",
    "from sagemaker.predictor import csv_serializer\n",
    "\n",
    "# Define IAM role\n",
    "role = get_execution_role()\n",
    "prefix = 'sagemaker/DEMO-xgboost-dm'\n",
    "my_region = 'us-east-1' # set the region of the instance\n",
    "\n",
    "# this line automatically looks for the XGBoost image URI and builds an XGBoost container.\n",
    "xgboost_container = sagemaker.image_uris.retrieve(\"xgboost\", my_region, \"latest\")\n",
    "\n",
    "print(\"Success - the MySageMakerInstance is in the \" + my_region + \" region. You will use the \" + xgboost_container + \" container for your SageMaker endpoint.\")"
   ]
  },
  {
   "cell_type": "code",
   "execution_count": 10,
   "id": "6f23844d",
   "metadata": {},
   "outputs": [],
   "source": [
    "bucket_name = 'dsde-sireesha-chimbili' # <--- CHANGE THIS VARIABLE TO A UNIQUE NAME FOR YOUR BUCKET\n",
    "s3 = boto3.resource('s3')\n",
    "try:\n",
    "    if  my_region == 'us-east-1':\n",
    "      s3.create_bucket(Bucket=bucket_name)\n",
    "    else: \n",
    "      s3.create_bucket(Bucket=bucket_name, CreateBucketConfiguration={ 'LocationConstraint': my_region })\n",
    "    print('S3 bucket created successfully')\n",
    "except Exception as e:\n",
    "    print('S3 error: ',e)"
   ]
  },
  {
   "cell_type": "code",
   "execution_count": null,
   "id": "faafb474",
   "metadata": {},
   "outputs": [],
   "source": []
  },
  {
   "cell_type": "code",
   "execution_count": 6,
   "id": "0ebe996b",
   "metadata": {},
   "outputs": [],
   "source": [
    "import numpy as np \n",
    "import pandas as pd "
   ]
  },
  {
   "cell_type": "code",
   "execution_count": null,
   "id": "363d64ea",
   "metadata": {},
   "outputs": [],
   "source": []
  },
  {
   "cell_type": "code",
   "execution_count": 10,
   "id": "083608fd",
   "metadata": {},
   "outputs": [
    {
     "ename": "PermissionError",
     "evalue": "Forbidden",
     "output_type": "error",
     "traceback": [
      "\u001b[1;31m---------------------------------------------------------------------------\u001b[0m",
      "\u001b[1;31mClientError\u001b[0m                               Traceback (most recent call last)",
      "File \u001b[1;32mc:\\Users\\Sireesha Chimbili\\AppData\\Local\\Programs\\Python\\Python311\\Lib\\site-packages\\s3fs\\core.py:113\u001b[0m, in \u001b[0;36m_error_wrapper\u001b[1;34m(func, args, kwargs, retries)\u001b[0m\n\u001b[0;32m    112\u001b[0m \u001b[39mtry\u001b[39;00m:\n\u001b[1;32m--> 113\u001b[0m     \u001b[39mreturn\u001b[39;00m \u001b[39mawait\u001b[39;00m func(\u001b[39m*\u001b[39margs, \u001b[39m*\u001b[39m\u001b[39m*\u001b[39mkwargs)\n\u001b[0;32m    114\u001b[0m \u001b[39mexcept\u001b[39;00m S3_RETRYABLE_ERRORS \u001b[39mas\u001b[39;00m e:\n",
      "File \u001b[1;32mc:\\Users\\Sireesha Chimbili\\AppData\\Local\\Programs\\Python\\Python311\\Lib\\site-packages\\aiobotocore\\client.py:371\u001b[0m, in \u001b[0;36mAioBaseClient._make_api_call\u001b[1;34m(self, operation_name, api_params)\u001b[0m\n\u001b[0;32m    370\u001b[0m     error_class \u001b[39m=\u001b[39m \u001b[39mself\u001b[39m\u001b[39m.\u001b[39mexceptions\u001b[39m.\u001b[39mfrom_code(error_code)\n\u001b[1;32m--> 371\u001b[0m     \u001b[39mraise\u001b[39;00m error_class(parsed_response, operation_name)\n\u001b[0;32m    372\u001b[0m \u001b[39melse\u001b[39;00m:\n",
      "\u001b[1;31mClientError\u001b[0m: An error occurred (403) when calling the HeadObject operation: Forbidden",
      "\nThe above exception was the direct cause of the following exception:\n",
      "\u001b[1;31mPermissionError\u001b[0m                           Traceback (most recent call last)",
      "Cell \u001b[1;32mIn[10], line 1\u001b[0m\n\u001b[1;32m----> 1\u001b[0m df_yield \u001b[39m=\u001b[39m pd\u001b[39m.\u001b[39;49mread_csv(\u001b[39m'\u001b[39;49m\u001b[39ms3://dsde-sireesha-chimbili/yield.csv\u001b[39;49m\u001b[39m'\u001b[39;49m)\n\u001b[0;32m      2\u001b[0m df_yield\u001b[39m.\u001b[39mshape\n",
      "File \u001b[1;32mc:\\Users\\Sireesha Chimbili\\AppData\\Local\\Programs\\Python\\Python311\\Lib\\site-packages\\pandas\\util\\_decorators.py:211\u001b[0m, in \u001b[0;36mdeprecate_kwarg.<locals>._deprecate_kwarg.<locals>.wrapper\u001b[1;34m(*args, **kwargs)\u001b[0m\n\u001b[0;32m    209\u001b[0m     \u001b[39melse\u001b[39;00m:\n\u001b[0;32m    210\u001b[0m         kwargs[new_arg_name] \u001b[39m=\u001b[39m new_arg_value\n\u001b[1;32m--> 211\u001b[0m \u001b[39mreturn\u001b[39;00m func(\u001b[39m*\u001b[39;49margs, \u001b[39m*\u001b[39;49m\u001b[39m*\u001b[39;49mkwargs)\n",
      "File \u001b[1;32mc:\\Users\\Sireesha Chimbili\\AppData\\Local\\Programs\\Python\\Python311\\Lib\\site-packages\\pandas\\util\\_decorators.py:331\u001b[0m, in \u001b[0;36mdeprecate_nonkeyword_arguments.<locals>.decorate.<locals>.wrapper\u001b[1;34m(*args, **kwargs)\u001b[0m\n\u001b[0;32m    325\u001b[0m \u001b[39mif\u001b[39;00m \u001b[39mlen\u001b[39m(args) \u001b[39m>\u001b[39m num_allow_args:\n\u001b[0;32m    326\u001b[0m     warnings\u001b[39m.\u001b[39mwarn(\n\u001b[0;32m    327\u001b[0m         msg\u001b[39m.\u001b[39mformat(arguments\u001b[39m=\u001b[39m_format_argument_list(allow_args)),\n\u001b[0;32m    328\u001b[0m         \u001b[39mFutureWarning\u001b[39;00m,\n\u001b[0;32m    329\u001b[0m         stacklevel\u001b[39m=\u001b[39mfind_stack_level(),\n\u001b[0;32m    330\u001b[0m     )\n\u001b[1;32m--> 331\u001b[0m \u001b[39mreturn\u001b[39;00m func(\u001b[39m*\u001b[39;49margs, \u001b[39m*\u001b[39;49m\u001b[39m*\u001b[39;49mkwargs)\n",
      "File \u001b[1;32mc:\\Users\\Sireesha Chimbili\\AppData\\Local\\Programs\\Python\\Python311\\Lib\\site-packages\\pandas\\io\\parsers\\readers.py:950\u001b[0m, in \u001b[0;36mread_csv\u001b[1;34m(filepath_or_buffer, sep, delimiter, header, names, index_col, usecols, squeeze, prefix, mangle_dupe_cols, dtype, engine, converters, true_values, false_values, skipinitialspace, skiprows, skipfooter, nrows, na_values, keep_default_na, na_filter, verbose, skip_blank_lines, parse_dates, infer_datetime_format, keep_date_col, date_parser, dayfirst, cache_dates, iterator, chunksize, compression, thousands, decimal, lineterminator, quotechar, quoting, doublequote, escapechar, comment, encoding, encoding_errors, dialect, error_bad_lines, warn_bad_lines, on_bad_lines, delim_whitespace, low_memory, memory_map, float_precision, storage_options)\u001b[0m\n\u001b[0;32m    935\u001b[0m kwds_defaults \u001b[39m=\u001b[39m _refine_defaults_read(\n\u001b[0;32m    936\u001b[0m     dialect,\n\u001b[0;32m    937\u001b[0m     delimiter,\n\u001b[1;32m   (...)\u001b[0m\n\u001b[0;32m    946\u001b[0m     defaults\u001b[39m=\u001b[39m{\u001b[39m\"\u001b[39m\u001b[39mdelimiter\u001b[39m\u001b[39m\"\u001b[39m: \u001b[39m\"\u001b[39m\u001b[39m,\u001b[39m\u001b[39m\"\u001b[39m},\n\u001b[0;32m    947\u001b[0m )\n\u001b[0;32m    948\u001b[0m kwds\u001b[39m.\u001b[39mupdate(kwds_defaults)\n\u001b[1;32m--> 950\u001b[0m \u001b[39mreturn\u001b[39;00m _read(filepath_or_buffer, kwds)\n",
      "File \u001b[1;32mc:\\Users\\Sireesha Chimbili\\AppData\\Local\\Programs\\Python\\Python311\\Lib\\site-packages\\pandas\\io\\parsers\\readers.py:605\u001b[0m, in \u001b[0;36m_read\u001b[1;34m(filepath_or_buffer, kwds)\u001b[0m\n\u001b[0;32m    602\u001b[0m _validate_names(kwds\u001b[39m.\u001b[39mget(\u001b[39m\"\u001b[39m\u001b[39mnames\u001b[39m\u001b[39m\"\u001b[39m, \u001b[39mNone\u001b[39;00m))\n\u001b[0;32m    604\u001b[0m \u001b[39m# Create the parser.\u001b[39;00m\n\u001b[1;32m--> 605\u001b[0m parser \u001b[39m=\u001b[39m TextFileReader(filepath_or_buffer, \u001b[39m*\u001b[39;49m\u001b[39m*\u001b[39;49mkwds)\n\u001b[0;32m    607\u001b[0m \u001b[39mif\u001b[39;00m chunksize \u001b[39mor\u001b[39;00m iterator:\n\u001b[0;32m    608\u001b[0m     \u001b[39mreturn\u001b[39;00m parser\n",
      "File \u001b[1;32mc:\\Users\\Sireesha Chimbili\\AppData\\Local\\Programs\\Python\\Python311\\Lib\\site-packages\\pandas\\io\\parsers\\readers.py:1442\u001b[0m, in \u001b[0;36mTextFileReader.__init__\u001b[1;34m(self, f, engine, **kwds)\u001b[0m\n\u001b[0;32m   1439\u001b[0m     \u001b[39mself\u001b[39m\u001b[39m.\u001b[39moptions[\u001b[39m\"\u001b[39m\u001b[39mhas_index_names\u001b[39m\u001b[39m\"\u001b[39m] \u001b[39m=\u001b[39m kwds[\u001b[39m\"\u001b[39m\u001b[39mhas_index_names\u001b[39m\u001b[39m\"\u001b[39m]\n\u001b[0;32m   1441\u001b[0m \u001b[39mself\u001b[39m\u001b[39m.\u001b[39mhandles: IOHandles \u001b[39m|\u001b[39m \u001b[39mNone\u001b[39;00m \u001b[39m=\u001b[39m \u001b[39mNone\u001b[39;00m\n\u001b[1;32m-> 1442\u001b[0m \u001b[39mself\u001b[39m\u001b[39m.\u001b[39m_engine \u001b[39m=\u001b[39m \u001b[39mself\u001b[39;49m\u001b[39m.\u001b[39;49m_make_engine(f, \u001b[39mself\u001b[39;49m\u001b[39m.\u001b[39;49mengine)\n",
      "File \u001b[1;32mc:\\Users\\Sireesha Chimbili\\AppData\\Local\\Programs\\Python\\Python311\\Lib\\site-packages\\pandas\\io\\parsers\\readers.py:1735\u001b[0m, in \u001b[0;36mTextFileReader._make_engine\u001b[1;34m(self, f, engine)\u001b[0m\n\u001b[0;32m   1733\u001b[0m     \u001b[39mif\u001b[39;00m \u001b[39m\"\u001b[39m\u001b[39mb\u001b[39m\u001b[39m\"\u001b[39m \u001b[39mnot\u001b[39;00m \u001b[39min\u001b[39;00m mode:\n\u001b[0;32m   1734\u001b[0m         mode \u001b[39m+\u001b[39m\u001b[39m=\u001b[39m \u001b[39m\"\u001b[39m\u001b[39mb\u001b[39m\u001b[39m\"\u001b[39m\n\u001b[1;32m-> 1735\u001b[0m \u001b[39mself\u001b[39m\u001b[39m.\u001b[39mhandles \u001b[39m=\u001b[39m get_handle(\n\u001b[0;32m   1736\u001b[0m     f,\n\u001b[0;32m   1737\u001b[0m     mode,\n\u001b[0;32m   1738\u001b[0m     encoding\u001b[39m=\u001b[39;49m\u001b[39mself\u001b[39;49m\u001b[39m.\u001b[39;49moptions\u001b[39m.\u001b[39;49mget(\u001b[39m\"\u001b[39;49m\u001b[39mencoding\u001b[39;49m\u001b[39m\"\u001b[39;49m, \u001b[39mNone\u001b[39;49;00m),\n\u001b[0;32m   1739\u001b[0m     compression\u001b[39m=\u001b[39;49m\u001b[39mself\u001b[39;49m\u001b[39m.\u001b[39;49moptions\u001b[39m.\u001b[39;49mget(\u001b[39m\"\u001b[39;49m\u001b[39mcompression\u001b[39;49m\u001b[39m\"\u001b[39;49m, \u001b[39mNone\u001b[39;49;00m),\n\u001b[0;32m   1740\u001b[0m     memory_map\u001b[39m=\u001b[39;49m\u001b[39mself\u001b[39;49m\u001b[39m.\u001b[39;49moptions\u001b[39m.\u001b[39;49mget(\u001b[39m\"\u001b[39;49m\u001b[39mmemory_map\u001b[39;49m\u001b[39m\"\u001b[39;49m, \u001b[39mFalse\u001b[39;49;00m),\n\u001b[0;32m   1741\u001b[0m     is_text\u001b[39m=\u001b[39;49mis_text,\n\u001b[0;32m   1742\u001b[0m     errors\u001b[39m=\u001b[39;49m\u001b[39mself\u001b[39;49m\u001b[39m.\u001b[39;49moptions\u001b[39m.\u001b[39;49mget(\u001b[39m\"\u001b[39;49m\u001b[39mencoding_errors\u001b[39;49m\u001b[39m\"\u001b[39;49m, \u001b[39m\"\u001b[39;49m\u001b[39mstrict\u001b[39;49m\u001b[39m\"\u001b[39;49m),\n\u001b[0;32m   1743\u001b[0m     storage_options\u001b[39m=\u001b[39;49m\u001b[39mself\u001b[39;49m\u001b[39m.\u001b[39;49moptions\u001b[39m.\u001b[39;49mget(\u001b[39m\"\u001b[39;49m\u001b[39mstorage_options\u001b[39;49m\u001b[39m\"\u001b[39;49m, \u001b[39mNone\u001b[39;49;00m),\n\u001b[0;32m   1744\u001b[0m )\n\u001b[0;32m   1745\u001b[0m \u001b[39massert\u001b[39;00m \u001b[39mself\u001b[39m\u001b[39m.\u001b[39mhandles \u001b[39mis\u001b[39;00m \u001b[39mnot\u001b[39;00m \u001b[39mNone\u001b[39;00m\n\u001b[0;32m   1746\u001b[0m f \u001b[39m=\u001b[39m \u001b[39mself\u001b[39m\u001b[39m.\u001b[39mhandles\u001b[39m.\u001b[39mhandle\n",
      "File \u001b[1;32mc:\\Users\\Sireesha Chimbili\\AppData\\Local\\Programs\\Python\\Python311\\Lib\\site-packages\\pandas\\io\\common.py:713\u001b[0m, in \u001b[0;36mget_handle\u001b[1;34m(path_or_buf, mode, encoding, compression, memory_map, is_text, errors, storage_options)\u001b[0m\n\u001b[0;32m    710\u001b[0m     codecs\u001b[39m.\u001b[39mlookup_error(errors)\n\u001b[0;32m    712\u001b[0m \u001b[39m# open URLs\u001b[39;00m\n\u001b[1;32m--> 713\u001b[0m ioargs \u001b[39m=\u001b[39m _get_filepath_or_buffer(\n\u001b[0;32m    714\u001b[0m     path_or_buf,\n\u001b[0;32m    715\u001b[0m     encoding\u001b[39m=\u001b[39;49mencoding,\n\u001b[0;32m    716\u001b[0m     compression\u001b[39m=\u001b[39;49mcompression,\n\u001b[0;32m    717\u001b[0m     mode\u001b[39m=\u001b[39;49mmode,\n\u001b[0;32m    718\u001b[0m     storage_options\u001b[39m=\u001b[39;49mstorage_options,\n\u001b[0;32m    719\u001b[0m )\n\u001b[0;32m    721\u001b[0m handle \u001b[39m=\u001b[39m ioargs\u001b[39m.\u001b[39mfilepath_or_buffer\n\u001b[0;32m    722\u001b[0m handles: \u001b[39mlist\u001b[39m[BaseBuffer]\n",
      "File \u001b[1;32mc:\\Users\\Sireesha Chimbili\\AppData\\Local\\Programs\\Python\\Python311\\Lib\\site-packages\\pandas\\io\\common.py:422\u001b[0m, in \u001b[0;36m_get_filepath_or_buffer\u001b[1;34m(filepath_or_buffer, encoding, compression, mode, storage_options)\u001b[0m\n\u001b[0;32m    418\u001b[0m             storage_options \u001b[39m=\u001b[39m \u001b[39mdict\u001b[39m(storage_options)\n\u001b[0;32m    419\u001b[0m             storage_options[\u001b[39m\"\u001b[39m\u001b[39manon\u001b[39m\u001b[39m\"\u001b[39m] \u001b[39m=\u001b[39m \u001b[39mTrue\u001b[39;00m\n\u001b[0;32m    420\u001b[0m         file_obj \u001b[39m=\u001b[39m fsspec\u001b[39m.\u001b[39;49mopen(\n\u001b[0;32m    421\u001b[0m             filepath_or_buffer, mode\u001b[39m=\u001b[39;49mfsspec_mode, \u001b[39m*\u001b[39;49m\u001b[39m*\u001b[39;49m(storage_options \u001b[39mor\u001b[39;49;00m {})\n\u001b[1;32m--> 422\u001b[0m         )\u001b[39m.\u001b[39;49mopen()\n\u001b[0;32m    424\u001b[0m     \u001b[39mreturn\u001b[39;00m IOArgs(\n\u001b[0;32m    425\u001b[0m         filepath_or_buffer\u001b[39m=\u001b[39mfile_obj,\n\u001b[0;32m    426\u001b[0m         encoding\u001b[39m=\u001b[39mencoding,\n\u001b[1;32m   (...)\u001b[0m\n\u001b[0;32m    429\u001b[0m         mode\u001b[39m=\u001b[39mfsspec_mode,\n\u001b[0;32m    430\u001b[0m     )\n\u001b[0;32m    431\u001b[0m \u001b[39melif\u001b[39;00m storage_options:\n",
      "File \u001b[1;32mc:\\Users\\Sireesha Chimbili\\AppData\\Local\\Programs\\Python\\Python311\\Lib\\site-packages\\fsspec\\core.py:134\u001b[0m, in \u001b[0;36mOpenFile.open\u001b[1;34m(self)\u001b[0m\n\u001b[0;32m    127\u001b[0m \u001b[39mdef\u001b[39;00m \u001b[39mopen\u001b[39m(\u001b[39mself\u001b[39m):\n\u001b[0;32m    128\u001b[0m \u001b[39m    \u001b[39m\u001b[39m\"\"\"Materialise this as a real open file without context\u001b[39;00m\n\u001b[0;32m    129\u001b[0m \n\u001b[0;32m    130\u001b[0m \u001b[39m    The OpenFile object should be explicitly closed to avoid enclosed file\u001b[39;00m\n\u001b[0;32m    131\u001b[0m \u001b[39m    instances persisting. You must, therefore, keep a reference to the OpenFile\u001b[39;00m\n\u001b[0;32m    132\u001b[0m \u001b[39m    during the life of the file-like it generates.\u001b[39;00m\n\u001b[0;32m    133\u001b[0m \u001b[39m    \"\"\"\u001b[39;00m\n\u001b[1;32m--> 134\u001b[0m     \u001b[39mreturn\u001b[39;00m \u001b[39mself\u001b[39;49m\u001b[39m.\u001b[39;49m\u001b[39m__enter__\u001b[39;49m()\n",
      "File \u001b[1;32mc:\\Users\\Sireesha Chimbili\\AppData\\Local\\Programs\\Python\\Python311\\Lib\\site-packages\\fsspec\\core.py:102\u001b[0m, in \u001b[0;36mOpenFile.__enter__\u001b[1;34m(self)\u001b[0m\n\u001b[0;32m     99\u001b[0m \u001b[39mdef\u001b[39;00m \u001b[39m__enter__\u001b[39m(\u001b[39mself\u001b[39m):\n\u001b[0;32m    100\u001b[0m     mode \u001b[39m=\u001b[39m \u001b[39mself\u001b[39m\u001b[39m.\u001b[39mmode\u001b[39m.\u001b[39mreplace(\u001b[39m\"\u001b[39m\u001b[39mt\u001b[39m\u001b[39m\"\u001b[39m, \u001b[39m\"\u001b[39m\u001b[39m\"\u001b[39m)\u001b[39m.\u001b[39mreplace(\u001b[39m\"\u001b[39m\u001b[39mb\u001b[39m\u001b[39m\"\u001b[39m, \u001b[39m\"\u001b[39m\u001b[39m\"\u001b[39m) \u001b[39m+\u001b[39m \u001b[39m\"\u001b[39m\u001b[39mb\u001b[39m\u001b[39m\"\u001b[39m\n\u001b[1;32m--> 102\u001b[0m     f \u001b[39m=\u001b[39m \u001b[39mself\u001b[39;49m\u001b[39m.\u001b[39;49mfs\u001b[39m.\u001b[39;49mopen(\u001b[39mself\u001b[39;49m\u001b[39m.\u001b[39;49mpath, mode\u001b[39m=\u001b[39;49mmode)\n\u001b[0;32m    104\u001b[0m     \u001b[39mself\u001b[39m\u001b[39m.\u001b[39mfobjects \u001b[39m=\u001b[39m [f]\n\u001b[0;32m    106\u001b[0m     \u001b[39mif\u001b[39;00m \u001b[39mself\u001b[39m\u001b[39m.\u001b[39mcompression \u001b[39mis\u001b[39;00m \u001b[39mnot\u001b[39;00m \u001b[39mNone\u001b[39;00m:\n",
      "File \u001b[1;32mc:\\Users\\Sireesha Chimbili\\AppData\\Local\\Programs\\Python\\Python311\\Lib\\site-packages\\fsspec\\spec.py:1154\u001b[0m, in \u001b[0;36mAbstractFileSystem.open\u001b[1;34m(self, path, mode, block_size, cache_options, compression, **kwargs)\u001b[0m\n\u001b[0;32m   1152\u001b[0m \u001b[39melse\u001b[39;00m:\n\u001b[0;32m   1153\u001b[0m     ac \u001b[39m=\u001b[39m kwargs\u001b[39m.\u001b[39mpop(\u001b[39m\"\u001b[39m\u001b[39mautocommit\u001b[39m\u001b[39m\"\u001b[39m, \u001b[39mnot\u001b[39;00m \u001b[39mself\u001b[39m\u001b[39m.\u001b[39m_intrans)\n\u001b[1;32m-> 1154\u001b[0m     f \u001b[39m=\u001b[39m \u001b[39mself\u001b[39;49m\u001b[39m.\u001b[39;49m_open(\n\u001b[0;32m   1155\u001b[0m         path,\n\u001b[0;32m   1156\u001b[0m         mode\u001b[39m=\u001b[39;49mmode,\n\u001b[0;32m   1157\u001b[0m         block_size\u001b[39m=\u001b[39;49mblock_size,\n\u001b[0;32m   1158\u001b[0m         autocommit\u001b[39m=\u001b[39;49mac,\n\u001b[0;32m   1159\u001b[0m         cache_options\u001b[39m=\u001b[39;49mcache_options,\n\u001b[0;32m   1160\u001b[0m         \u001b[39m*\u001b[39;49m\u001b[39m*\u001b[39;49mkwargs,\n\u001b[0;32m   1161\u001b[0m     )\n\u001b[0;32m   1162\u001b[0m     \u001b[39mif\u001b[39;00m compression \u001b[39mis\u001b[39;00m \u001b[39mnot\u001b[39;00m \u001b[39mNone\u001b[39;00m:\n\u001b[0;32m   1163\u001b[0m         \u001b[39mfrom\u001b[39;00m \u001b[39mfsspec\u001b[39;00m\u001b[39m.\u001b[39;00m\u001b[39mcompression\u001b[39;00m \u001b[39mimport\u001b[39;00m compr\n",
      "File \u001b[1;32mc:\\Users\\Sireesha Chimbili\\AppData\\Local\\Programs\\Python\\Python311\\Lib\\site-packages\\s3fs\\core.py:659\u001b[0m, in \u001b[0;36mS3FileSystem._open\u001b[1;34m(self, path, mode, block_size, acl, version_id, fill_cache, cache_type, autocommit, requester_pays, cache_options, **kwargs)\u001b[0m\n\u001b[0;32m    656\u001b[0m \u001b[39mif\u001b[39;00m cache_type \u001b[39mis\u001b[39;00m \u001b[39mNone\u001b[39;00m:\n\u001b[0;32m    657\u001b[0m     cache_type \u001b[39m=\u001b[39m \u001b[39mself\u001b[39m\u001b[39m.\u001b[39mdefault_cache_type\n\u001b[1;32m--> 659\u001b[0m \u001b[39mreturn\u001b[39;00m S3File(\n\u001b[0;32m    660\u001b[0m     \u001b[39mself\u001b[39;49m,\n\u001b[0;32m    661\u001b[0m     path,\n\u001b[0;32m    662\u001b[0m     mode,\n\u001b[0;32m    663\u001b[0m     block_size\u001b[39m=\u001b[39;49mblock_size,\n\u001b[0;32m    664\u001b[0m     acl\u001b[39m=\u001b[39;49macl,\n\u001b[0;32m    665\u001b[0m     version_id\u001b[39m=\u001b[39;49mversion_id,\n\u001b[0;32m    666\u001b[0m     fill_cache\u001b[39m=\u001b[39;49mfill_cache,\n\u001b[0;32m    667\u001b[0m     s3_additional_kwargs\u001b[39m=\u001b[39;49mkw,\n\u001b[0;32m    668\u001b[0m     cache_type\u001b[39m=\u001b[39;49mcache_type,\n\u001b[0;32m    669\u001b[0m     autocommit\u001b[39m=\u001b[39;49mautocommit,\n\u001b[0;32m    670\u001b[0m     requester_pays\u001b[39m=\u001b[39;49mrequester_pays,\n\u001b[0;32m    671\u001b[0m     cache_options\u001b[39m=\u001b[39;49mcache_options,\n\u001b[0;32m    672\u001b[0m )\n",
      "File \u001b[1;32mc:\\Users\\Sireesha Chimbili\\AppData\\Local\\Programs\\Python\\Python311\\Lib\\site-packages\\s3fs\\core.py:2037\u001b[0m, in \u001b[0;36mS3File.__init__\u001b[1;34m(self, s3, path, mode, block_size, acl, version_id, fill_cache, s3_additional_kwargs, autocommit, cache_type, requester_pays, cache_options)\u001b[0m\n\u001b[0;32m   2035\u001b[0m         \u001b[39mself\u001b[39m\u001b[39m.\u001b[39mdetails \u001b[39m=\u001b[39m s3\u001b[39m.\u001b[39minfo(path)\n\u001b[0;32m   2036\u001b[0m         \u001b[39mself\u001b[39m\u001b[39m.\u001b[39mversion_id \u001b[39m=\u001b[39m \u001b[39mself\u001b[39m\u001b[39m.\u001b[39mdetails\u001b[39m.\u001b[39mget(\u001b[39m\"\u001b[39m\u001b[39mVersionId\u001b[39m\u001b[39m\"\u001b[39m)\n\u001b[1;32m-> 2037\u001b[0m \u001b[39msuper\u001b[39;49m()\u001b[39m.\u001b[39;49m\u001b[39m__init__\u001b[39;49m(\n\u001b[0;32m   2038\u001b[0m     s3,\n\u001b[0;32m   2039\u001b[0m     path,\n\u001b[0;32m   2040\u001b[0m     mode,\n\u001b[0;32m   2041\u001b[0m     block_size,\n\u001b[0;32m   2042\u001b[0m     autocommit\u001b[39m=\u001b[39;49mautocommit,\n\u001b[0;32m   2043\u001b[0m     cache_type\u001b[39m=\u001b[39;49mcache_type,\n\u001b[0;32m   2044\u001b[0m     cache_options\u001b[39m=\u001b[39;49mcache_options,\n\u001b[0;32m   2045\u001b[0m )\n\u001b[0;32m   2046\u001b[0m \u001b[39mself\u001b[39m\u001b[39m.\u001b[39ms3 \u001b[39m=\u001b[39m \u001b[39mself\u001b[39m\u001b[39m.\u001b[39mfs  \u001b[39m# compatibility\u001b[39;00m\n\u001b[0;32m   2048\u001b[0m \u001b[39m# when not using autocommit we want to have transactional state to manage\u001b[39;00m\n",
      "File \u001b[1;32mc:\\Users\\Sireesha Chimbili\\AppData\\Local\\Programs\\Python\\Python311\\Lib\\site-packages\\fsspec\\spec.py:1510\u001b[0m, in \u001b[0;36mAbstractBufferedFile.__init__\u001b[1;34m(self, fs, path, mode, block_size, autocommit, cache_type, cache_options, size, **kwargs)\u001b[0m\n\u001b[0;32m   1508\u001b[0m         \u001b[39mself\u001b[39m\u001b[39m.\u001b[39msize \u001b[39m=\u001b[39m size\n\u001b[0;32m   1509\u001b[0m     \u001b[39melse\u001b[39;00m:\n\u001b[1;32m-> 1510\u001b[0m         \u001b[39mself\u001b[39m\u001b[39m.\u001b[39msize \u001b[39m=\u001b[39m \u001b[39mself\u001b[39;49m\u001b[39m.\u001b[39;49mdetails[\u001b[39m\"\u001b[39m\u001b[39msize\u001b[39m\u001b[39m\"\u001b[39m]\n\u001b[0;32m   1511\u001b[0m     \u001b[39mself\u001b[39m\u001b[39m.\u001b[39mcache \u001b[39m=\u001b[39m caches[cache_type](\n\u001b[0;32m   1512\u001b[0m         \u001b[39mself\u001b[39m\u001b[39m.\u001b[39mblocksize, \u001b[39mself\u001b[39m\u001b[39m.\u001b[39m_fetch_range, \u001b[39mself\u001b[39m\u001b[39m.\u001b[39msize, \u001b[39m*\u001b[39m\u001b[39m*\u001b[39mcache_options\n\u001b[0;32m   1513\u001b[0m     )\n\u001b[0;32m   1514\u001b[0m \u001b[39melse\u001b[39;00m:\n",
      "File \u001b[1;32mc:\\Users\\Sireesha Chimbili\\AppData\\Local\\Programs\\Python\\Python311\\Lib\\site-packages\\fsspec\\spec.py:1523\u001b[0m, in \u001b[0;36mAbstractBufferedFile.details\u001b[1;34m(self)\u001b[0m\n\u001b[0;32m   1520\u001b[0m \u001b[39m@property\u001b[39m\n\u001b[0;32m   1521\u001b[0m \u001b[39mdef\u001b[39;00m \u001b[39mdetails\u001b[39m(\u001b[39mself\u001b[39m):\n\u001b[0;32m   1522\u001b[0m     \u001b[39mif\u001b[39;00m \u001b[39mself\u001b[39m\u001b[39m.\u001b[39m_details \u001b[39mis\u001b[39;00m \u001b[39mNone\u001b[39;00m:\n\u001b[1;32m-> 1523\u001b[0m         \u001b[39mself\u001b[39m\u001b[39m.\u001b[39m_details \u001b[39m=\u001b[39m \u001b[39mself\u001b[39;49m\u001b[39m.\u001b[39;49mfs\u001b[39m.\u001b[39;49minfo(\u001b[39mself\u001b[39;49m\u001b[39m.\u001b[39;49mpath)\n\u001b[0;32m   1524\u001b[0m     \u001b[39mreturn\u001b[39;00m \u001b[39mself\u001b[39m\u001b[39m.\u001b[39m_details\n",
      "File \u001b[1;32mc:\\Users\\Sireesha Chimbili\\AppData\\Local\\Programs\\Python\\Python311\\Lib\\site-packages\\fsspec\\asyn.py:115\u001b[0m, in \u001b[0;36msync_wrapper.<locals>.wrapper\u001b[1;34m(*args, **kwargs)\u001b[0m\n\u001b[0;32m    112\u001b[0m \u001b[39m@functools\u001b[39m\u001b[39m.\u001b[39mwraps(func)\n\u001b[0;32m    113\u001b[0m \u001b[39mdef\u001b[39;00m \u001b[39mwrapper\u001b[39m(\u001b[39m*\u001b[39margs, \u001b[39m*\u001b[39m\u001b[39m*\u001b[39mkwargs):\n\u001b[0;32m    114\u001b[0m     \u001b[39mself\u001b[39m \u001b[39m=\u001b[39m obj \u001b[39mor\u001b[39;00m args[\u001b[39m0\u001b[39m]\n\u001b[1;32m--> 115\u001b[0m     \u001b[39mreturn\u001b[39;00m sync(\u001b[39mself\u001b[39;49m\u001b[39m.\u001b[39;49mloop, func, \u001b[39m*\u001b[39;49margs, \u001b[39m*\u001b[39;49m\u001b[39m*\u001b[39;49mkwargs)\n",
      "File \u001b[1;32mc:\\Users\\Sireesha Chimbili\\AppData\\Local\\Programs\\Python\\Python311\\Lib\\site-packages\\fsspec\\asyn.py:100\u001b[0m, in \u001b[0;36msync\u001b[1;34m(loop, func, timeout, *args, **kwargs)\u001b[0m\n\u001b[0;32m     98\u001b[0m     \u001b[39mraise\u001b[39;00m FSTimeoutError \u001b[39mfrom\u001b[39;00m \u001b[39mreturn_result\u001b[39;00m\n\u001b[0;32m     99\u001b[0m \u001b[39melif\u001b[39;00m \u001b[39misinstance\u001b[39m(return_result, \u001b[39mBaseException\u001b[39;00m):\n\u001b[1;32m--> 100\u001b[0m     \u001b[39mraise\u001b[39;00m return_result\n\u001b[0;32m    101\u001b[0m \u001b[39melse\u001b[39;00m:\n\u001b[0;32m    102\u001b[0m     \u001b[39mreturn\u001b[39;00m return_result\n",
      "File \u001b[1;32mc:\\Users\\Sireesha Chimbili\\AppData\\Local\\Programs\\Python\\Python311\\Lib\\site-packages\\fsspec\\asyn.py:55\u001b[0m, in \u001b[0;36m_runner\u001b[1;34m(event, coro, result, timeout)\u001b[0m\n\u001b[0;32m     53\u001b[0m     coro \u001b[39m=\u001b[39m asyncio\u001b[39m.\u001b[39mwait_for(coro, timeout\u001b[39m=\u001b[39mtimeout)\n\u001b[0;32m     54\u001b[0m \u001b[39mtry\u001b[39;00m:\n\u001b[1;32m---> 55\u001b[0m     result[\u001b[39m0\u001b[39m] \u001b[39m=\u001b[39m \u001b[39mawait\u001b[39;00m coro\n\u001b[0;32m     56\u001b[0m \u001b[39mexcept\u001b[39;00m \u001b[39mException\u001b[39;00m \u001b[39mas\u001b[39;00m ex:\n\u001b[0;32m     57\u001b[0m     result[\u001b[39m0\u001b[39m] \u001b[39m=\u001b[39m ex\n",
      "File \u001b[1;32mc:\\Users\\Sireesha Chimbili\\AppData\\Local\\Programs\\Python\\Python311\\Lib\\site-packages\\s3fs\\core.py:1248\u001b[0m, in \u001b[0;36mS3FileSystem._info\u001b[1;34m(self, path, bucket, key, refresh, version_id)\u001b[0m\n\u001b[0;32m   1246\u001b[0m \u001b[39mif\u001b[39;00m key:\n\u001b[0;32m   1247\u001b[0m     \u001b[39mtry\u001b[39;00m:\n\u001b[1;32m-> 1248\u001b[0m         out \u001b[39m=\u001b[39m \u001b[39mawait\u001b[39;00m \u001b[39mself\u001b[39m\u001b[39m.\u001b[39m_call_s3(\n\u001b[0;32m   1249\u001b[0m             \u001b[39m\"\u001b[39m\u001b[39mhead_object\u001b[39m\u001b[39m\"\u001b[39m,\n\u001b[0;32m   1250\u001b[0m             \u001b[39mself\u001b[39m\u001b[39m.\u001b[39mkwargs,\n\u001b[0;32m   1251\u001b[0m             Bucket\u001b[39m=\u001b[39mbucket,\n\u001b[0;32m   1252\u001b[0m             Key\u001b[39m=\u001b[39mkey,\n\u001b[0;32m   1253\u001b[0m             \u001b[39m*\u001b[39m\u001b[39m*\u001b[39mversion_id_kw(version_id),\n\u001b[0;32m   1254\u001b[0m             \u001b[39m*\u001b[39m\u001b[39m*\u001b[39m\u001b[39mself\u001b[39m\u001b[39m.\u001b[39mreq_kw,\n\u001b[0;32m   1255\u001b[0m         )\n\u001b[0;32m   1256\u001b[0m         \u001b[39mreturn\u001b[39;00m {\n\u001b[0;32m   1257\u001b[0m             \u001b[39m\"\u001b[39m\u001b[39mETag\u001b[39m\u001b[39m\"\u001b[39m: out\u001b[39m.\u001b[39mget(\u001b[39m\"\u001b[39m\u001b[39mETag\u001b[39m\u001b[39m\"\u001b[39m, \u001b[39m\"\u001b[39m\u001b[39m\"\u001b[39m),\n\u001b[0;32m   1258\u001b[0m             \u001b[39m\"\u001b[39m\u001b[39mLastModified\u001b[39m\u001b[39m\"\u001b[39m: out[\u001b[39m\"\u001b[39m\u001b[39mLastModified\u001b[39m\u001b[39m\"\u001b[39m],\n\u001b[1;32m   (...)\u001b[0m\n\u001b[0;32m   1264\u001b[0m             \u001b[39m\"\u001b[39m\u001b[39mContentType\u001b[39m\u001b[39m\"\u001b[39m: out\u001b[39m.\u001b[39mget(\u001b[39m\"\u001b[39m\u001b[39mContentType\u001b[39m\u001b[39m\"\u001b[39m),\n\u001b[0;32m   1265\u001b[0m         }\n\u001b[0;32m   1266\u001b[0m     \u001b[39mexcept\u001b[39;00m \u001b[39mFileNotFoundError\u001b[39;00m:\n",
      "File \u001b[1;32mc:\\Users\\Sireesha Chimbili\\AppData\\Local\\Programs\\Python\\Python311\\Lib\\site-packages\\s3fs\\core.py:348\u001b[0m, in \u001b[0;36mS3FileSystem._call_s3\u001b[1;34m(self, method, *akwarglist, **kwargs)\u001b[0m\n\u001b[0;32m    346\u001b[0m logger\u001b[39m.\u001b[39mdebug(\u001b[39m\"\u001b[39m\u001b[39mCALL: \u001b[39m\u001b[39m%s\u001b[39;00m\u001b[39m - \u001b[39m\u001b[39m%s\u001b[39;00m\u001b[39m - \u001b[39m\u001b[39m%s\u001b[39;00m\u001b[39m\"\u001b[39m, method\u001b[39m.\u001b[39m\u001b[39m__name__\u001b[39m, akwarglist, kw2)\n\u001b[0;32m    347\u001b[0m additional_kwargs \u001b[39m=\u001b[39m \u001b[39mself\u001b[39m\u001b[39m.\u001b[39m_get_s3_method_kwargs(method, \u001b[39m*\u001b[39makwarglist, \u001b[39m*\u001b[39m\u001b[39m*\u001b[39mkwargs)\n\u001b[1;32m--> 348\u001b[0m \u001b[39mreturn\u001b[39;00m \u001b[39mawait\u001b[39;00m _error_wrapper(\n\u001b[0;32m    349\u001b[0m     method, kwargs\u001b[39m=\u001b[39madditional_kwargs, retries\u001b[39m=\u001b[39m\u001b[39mself\u001b[39m\u001b[39m.\u001b[39mretries\n\u001b[0;32m    350\u001b[0m )\n",
      "File \u001b[1;32mc:\\Users\\Sireesha Chimbili\\AppData\\Local\\Programs\\Python\\Python311\\Lib\\site-packages\\s3fs\\core.py:140\u001b[0m, in \u001b[0;36m_error_wrapper\u001b[1;34m(func, args, kwargs, retries)\u001b[0m\n\u001b[0;32m    138\u001b[0m         err \u001b[39m=\u001b[39m e\n\u001b[0;32m    139\u001b[0m err \u001b[39m=\u001b[39m translate_boto_error(err)\n\u001b[1;32m--> 140\u001b[0m \u001b[39mraise\u001b[39;00m err\n",
      "\u001b[1;31mPermissionError\u001b[0m: Forbidden"
     ]
    }
   ],
   "source": [
    "df_yield = pd.read_csv('s3://dsde-sireesha-chimbili/yield.csv')\n",
    "df_yield.shape"
   ]
  },
  {
   "cell_type": "code",
   "execution_count": 11,
   "id": "8b94c76c",
   "metadata": {},
   "outputs": [
    {
     "ename": "NameError",
     "evalue": "name 'df_yield' is not defined",
     "output_type": "error",
     "traceback": [
      "\u001b[1;31m---------------------------------------------------------------------------\u001b[0m",
      "\u001b[1;31mNameError\u001b[0m                                 Traceback (most recent call last)",
      "Cell \u001b[1;32mIn[11], line 1\u001b[0m\n\u001b[1;32m----> 1\u001b[0m df_yield\u001b[39m.\u001b[39mhead()\n",
      "\u001b[1;31mNameError\u001b[0m: name 'df_yield' is not defined"
     ]
    }
   ],
   "source": [
    "df_yield.head()"
   ]
  },
  {
   "cell_type": "code",
   "execution_count": null,
   "id": "b7caca17",
   "metadata": {},
   "outputs": [],
   "source": [
    "# rename columns.\n",
    "df_yield = df_yield.rename(index=str, columns={\"Value\": \"hg/ha_yield\"})\n",
    "df_yield.head()"
   ]
  },
  {
   "cell_type": "code",
   "execution_count": null,
   "id": "1b72b844",
   "metadata": {},
   "outputs": [],
   "source": [
    "# drop unwanted columns.\n",
    "df_yield = df_yield.drop(['Year Code','Element Code','Element','Year Code','Area Code','Domain Code','Domain','Unit','Item Code'], axis=1)\n",
    "df_yield.head()"
   ]
  },
  {
   "cell_type": "code",
   "execution_count": null,
   "id": "b7ed3a5e",
   "metadata": {},
   "outputs": [],
   "source": [
    "df_yield.describe()"
   ]
  },
  {
   "cell_type": "code",
   "execution_count": null,
   "id": "0fa0e0dc",
   "metadata": {},
   "outputs": [],
   "source": [
    "df_yield.info()"
   ]
  },
  {
   "cell_type": "code",
   "execution_count": null,
   "id": "973b25ab",
   "metadata": {},
   "outputs": [],
   "source": []
  },
  {
   "cell_type": "code",
   "execution_count": null,
   "id": "d4622254",
   "metadata": {},
   "outputs": [],
   "source": [
    "df_rain = pd.read_csv('s3://dsde-sireesha-chimbili/rainfall.csv')\n",
    "\n",
    "df_rain.head()"
   ]
  },
  {
   "cell_type": "code",
   "execution_count": null,
   "id": "bc21fbf4",
   "metadata": {},
   "outputs": [],
   "source": [
    "df_rain = df_rain.rename(index=str, columns={\" Area\": 'Area'})"
   ]
  },
  {
   "cell_type": "code",
   "execution_count": null,
   "id": "63b57df9",
   "metadata": {},
   "outputs": [],
   "source": [
    "# check data types \n",
    "df_rain.info()"
   ]
  },
  {
   "cell_type": "code",
   "execution_count": null,
   "id": "ac689072",
   "metadata": {},
   "outputs": [],
   "source": [
    "# convert average_rain_fall_mm_per_year from object to float\n",
    "df_rain['average_rain_fall_mm_per_year'] = pd.to_numeric(df_rain['average_rain_fall_mm_per_year'],errors = 'coerce')\n",
    "df_rain.info()"
   ]
  },
  {
   "cell_type": "code",
   "execution_count": null,
   "id": "896dbcb3",
   "metadata": {},
   "outputs": [],
   "source": [
    "df_rain = df_rain.dropna()"
   ]
  },
  {
   "cell_type": "code",
   "execution_count": null,
   "id": "31a46feb",
   "metadata": {},
   "outputs": [],
   "source": [
    "df_rain.describe()"
   ]
  },
  {
   "cell_type": "code",
   "execution_count": null,
   "id": "6cbc140e",
   "metadata": {},
   "outputs": [],
   "source": [
    "# merge yield dataframe with rain dataframe by year and area columns \n",
    "yield_df_updated = pd.merge(df_yield, df_rain, on=['Year','Area'])"
   ]
  },
  {
   "cell_type": "code",
   "execution_count": null,
   "id": "1f1bcc41",
   "metadata": {},
   "outputs": [],
   "source": [
    "yield_df_updated.shape"
   ]
  },
  {
   "cell_type": "code",
   "execution_count": null,
   "id": "f491a1da",
   "metadata": {},
   "outputs": [],
   "source": [
    "yield_df_updated.head()"
   ]
  },
  {
   "cell_type": "code",
   "execution_count": null,
   "id": "4d6d7730",
   "metadata": {},
   "outputs": [],
   "source": [
    "yield_df_updated.describe()"
   ]
  },
  {
   "cell_type": "code",
   "execution_count": null,
   "id": "a1844276",
   "metadata": {},
   "outputs": [],
   "source": [
    "df_pes = pd.read_csv('s3://dsde-sireesha-chimbili/pesticides.csv')\n",
    "df_pes.head()"
   ]
  },
  {
   "cell_type": "code",
   "execution_count": null,
   "id": "f018d5b1",
   "metadata": {},
   "outputs": [],
   "source": [
    "df_pes = df_pes.rename(index=str, columns={\"Value\": \"pesticides_tonnes\"})\n",
    "df_pes = df_pes.drop(['Element','Domain','Unit','Item'], axis=1)\n",
    "df_pes.head()"
   ]
  },
  {
   "cell_type": "code",
   "execution_count": null,
   "id": "bcec078d",
   "metadata": {},
   "outputs": [],
   "source": [
    "df_pes.describe()"
   ]
  },
  {
   "cell_type": "code",
   "execution_count": null,
   "id": "d13749ff",
   "metadata": {},
   "outputs": [],
   "source": [
    "df_pes.info()"
   ]
  },
  {
   "cell_type": "code",
   "execution_count": null,
   "id": "b338a3ad",
   "metadata": {},
   "outputs": [],
   "source": [
    "# merge Pesticides dataframe with yield dataframe \n",
    "yield_df_updated = pd.merge(yield_df_updated, df_pes, on=['Year','Area'])\n",
    "yield_df_updated.shape"
   ]
  },
  {
   "cell_type": "code",
   "execution_count": null,
   "id": "d6698de3",
   "metadata": {},
   "outputs": [],
   "source": [
    "yield_df_updated.head()"
   ]
  },
  {
   "cell_type": "code",
   "execution_count": null,
   "id": "cf1b45ca",
   "metadata": {},
   "outputs": [],
   "source": [
    "avg_temp=  pd.read_csv('s3://dsde-sireesha-chimbili/temp.csv')"
   ]
  },
  {
   "cell_type": "code",
   "execution_count": null,
   "id": "10bfca7b",
   "metadata": {},
   "outputs": [],
   "source": [
    "avg_temp.head()"
   ]
  },
  {
   "cell_type": "code",
   "execution_count": null,
   "id": "9d68963c",
   "metadata": {},
   "outputs": [],
   "source": [
    "avg_temp.describe()"
   ]
  },
  {
   "cell_type": "code",
   "execution_count": null,
   "id": "05c38742",
   "metadata": {},
   "outputs": [],
   "source": [
    "avg_temp = avg_temp.rename(index=str, columns={\"year\": \"Year\", \"country\":'Area'})\n",
    "avg_temp.head()"
   ]
  },
  {
   "cell_type": "code",
   "execution_count": null,
   "id": "04256878",
   "metadata": {},
   "outputs": [],
   "source": [
    "yield_df_updated = pd.merge(yield_df_updated,avg_temp, on=['Area','Year'])\n",
    "yield_df_updated.head()"
   ]
  },
  {
   "cell_type": "code",
   "execution_count": null,
   "id": "f04097fc",
   "metadata": {},
   "outputs": [],
   "source": [
    "yield_df_updated.shape"
   ]
  },
  {
   "cell_type": "code",
   "execution_count": null,
   "id": "8ec0ed98",
   "metadata": {},
   "outputs": [],
   "source": [
    "yield_df_updated.describe()"
   ]
  },
  {
   "cell_type": "code",
   "execution_count": null,
   "id": "177978cc",
   "metadata": {},
   "outputs": [],
   "source": [
    "yield_df_updated.isnull().sum()"
   ]
  },
  {
   "cell_type": "code",
   "execution_count": null,
   "id": "780df035",
   "metadata": {},
   "outputs": [],
   "source": [
    "yield_df_updated.groupby('Item').count()"
   ]
  },
  {
   "cell_type": "code",
   "execution_count": null,
   "id": "d023877e",
   "metadata": {},
   "outputs": [],
   "source": [
    "yield_df_updated.describe()"
   ]
  },
  {
   "cell_type": "code",
   "execution_count": null,
   "id": "1ee97959",
   "metadata": {},
   "outputs": [],
   "source": [
    "yield_df_updated['Area'].nunique()"
   ]
  },
  {
   "cell_type": "code",
   "execution_count": null,
   "id": "b9730d96",
   "metadata": {},
   "outputs": [],
   "source": [
    "yield_df_updated.groupby(['Area'],sort=True)['hg/ha_yield'].sum().nlargest(10)"
   ]
  },
  {
   "cell_type": "code",
   "execution_count": null,
   "id": "930fc8d8",
   "metadata": {},
   "outputs": [],
   "source": [
    "yield_df_updated.groupby(['Item','Area'],sort=True)['hg/ha_yield'].sum().nlargest(10)"
   ]
  },
  {
   "cell_type": "code",
   "execution_count": null,
   "id": "a4c0155c",
   "metadata": {},
   "outputs": [],
   "source": []
  },
  {
   "cell_type": "code",
   "execution_count": null,
   "id": "d06184d8",
   "metadata": {},
   "outputs": [],
   "source": [
    "import sklearn\n",
    "import seaborn as sns\n",
    "import matplotlib.pyplot as plt"
   ]
  },
  {
   "cell_type": "code",
   "execution_count": null,
   "id": "18a7c8a5",
   "metadata": {},
   "outputs": [],
   "source": [
    "correlation_data=yield_df_updated.select_dtypes(include=[np.number]).corr()\n",
    "\n",
    "mask = np.zeros_like(correlation_data, dtype=np.bool)\n",
    "mask[np.triu_indices_from(mask)] = True\n",
    "\n",
    "f, ax = plt.subplots(figsize=(11, 9))\n",
    "\n",
    "# Generate a custom diverging colormap\n",
    "cmap = sns.palette=\"vlag\"\n",
    "\n",
    "# Draw the heatmap with the mask and correct aspect ratio\n",
    "sns.heatmap(correlation_data, mask=mask, cmap=cmap, vmax=.3, center=0,\n",
    "            square=True, linewidths=.5, cbar_kws={\"shrink\": .5});"
   ]
  },
  {
   "cell_type": "code",
   "execution_count": null,
   "id": "2bf2dd72",
   "metadata": {},
   "outputs": [],
   "source": [
    "#Data Prepocessing"
   ]
  },
  {
   "cell_type": "code",
   "execution_count": null,
   "id": "cb2ddf90",
   "metadata": {},
   "outputs": [],
   "source": [
    "yield_df_updated.head()"
   ]
  },
  {
   "cell_type": "code",
   "execution_count": null,
   "id": "0c1a1345",
   "metadata": {},
   "outputs": [],
   "source": [
    "from sklearn.preprocessing import OneHotEncoder\n",
    "\n",
    "yield_df_onehot = pd.get_dummies(yield_df_updated, columns=['Area',\"Item\"], prefix = ['Country',\"Item\"])\n",
    "features=yield_df_onehot.loc[:, yield_df_onehot.columns != 'hg/ha_yield']\n",
    "label=yield_df_updated['hg/ha_yield']\n",
    "features.head()"
   ]
  },
  {
   "cell_type": "code",
   "execution_count": null,
   "id": "41fe5d21",
   "metadata": {},
   "outputs": [],
   "source": [
    "features = features.drop(['Year'], axis=1)"
   ]
  },
  {
   "cell_type": "code",
   "execution_count": null,
   "id": "1a6c7bc4",
   "metadata": {},
   "outputs": [],
   "source": [
    "features.info()"
   ]
  },
  {
   "cell_type": "code",
   "execution_count": null,
   "id": "8b78b8bf",
   "metadata": {},
   "outputs": [],
   "source": [
    "features.head()"
   ]
  },
  {
   "cell_type": "code",
   "execution_count": null,
   "id": "33e2bd1f",
   "metadata": {},
   "outputs": [],
   "source": [
    "# Scaling\n",
    "from sklearn.preprocessing import MinMaxScaler\n",
    "scaler=MinMaxScaler()\n",
    "features=scaler.fit_transform(features)\n",
    "features"
   ]
  },
  {
   "cell_type": "code",
   "execution_count": null,
   "id": "daeddb76",
   "metadata": {},
   "outputs": [],
   "source": [
    "#write final df to csv file \n",
    "#yield_df_updated.to_csv('C:/Users/Sireesha Chimbili/Documents/Crop Data/yield_df_updated_me.csv')"
   ]
  },
  {
   "cell_type": "code",
   "execution_count": null,
   "id": "629cd5fb",
   "metadata": {},
   "outputs": [],
   "source": [
    "#Training\n",
    "from sklearn.model_selection import train_test_split\n",
    "train_data, test_data, train_labels, test_labels = train_test_split(features, label, test_size=0.25, random_state=42)"
   ]
  },
  {
   "cell_type": "code",
   "execution_count": null,
   "id": "2073e9ee",
   "metadata": {},
   "outputs": [],
   "source": [
    "#Modeling\n",
    "from sklearn.metrics import r2_score\n",
    "def compare_models(model):\n",
    "    model_name = model.__class__.__name__\n",
    "    fit=model.fit(train_data,train_labels)\n",
    "    y_pred=fit.predict(test_data)\n",
    "    r2=r2_score(test_labels,y_pred)\n",
    "    return([model_name,r2])"
   ]
  },
  {
   "cell_type": "code",
   "execution_count": null,
   "id": "474649b1",
   "metadata": {},
   "outputs": [],
   "source": []
  },
  {
   "cell_type": "code",
   "execution_count": null,
   "id": "60aaf6a9",
   "metadata": {},
   "outputs": [],
   "source": [
    "# import necessary libraries\n",
    "\n",
    "# import boto3\n",
    "# import pandas as pd\n",
    "# import numpy as np\n",
    "# import sagemaker\n",
    "# from sagemaker import get_execution_role\n",
    "# from sagemaker.amazon.amazon_estimator import get_image_uri\n",
    "\n",
    "# set up the SageMaker session and role\n",
    "# sagemaker_session = sagemaker.Session()\n",
    "# role = sagemaker.get_execution_role()\n",
    "\n",
    "# # set up the training data location\n",
    "# #train_data = 's3://path/to/training/data'\n",
    "\n",
    "# container = get_image_uri(sagemaker_session.boto_region_name, 'decision-trees')\n",
    "\n",
    "# dt = sagemaker.estimator.Estimator(container,\n",
    "#                                    role,\n",
    "#                                    train_instance_count=1,\n",
    "#                                    train_instance_type='ml.m4.xlarge',\n",
    "#                                    output_path='s3://dsde-sireesha-chimbili/output',\n",
    "#                                    sagemaker_session=sagemaker_session)\n",
    "\n",
    "# dt.set_hyperparameters(max_depth=5,\n",
    "#                        min_samples_split=5,\n",
    "#                        min_samples_leaf=5)\n",
    "\n",
    "# dt.fit({'train': train_data, 'validation': test_data})\n",
    "\n",
    "\n",
    "\n",
    "\n",
    "# create a decision tree regressor estimator\n",
    "# dt_estimator = sagemaker.estimator.Estimator(\n",
    "#     image_uri=sagemaker.image_uris.retrieve(\"decision-tree-regressor\", 'us-east-1'),\n",
    "#     role=role,\n",
    "#     instance_count=1,\n",
    "#     instance_type='ml.m4.xlarge',\n",
    "#     output_path='s3://dsde-sireesha-chimbili/output',\n",
    "#     sagemaker_session=sagemaker_session,\n",
    "#     base_job_name='decision-tree-regressor'\n",
    "# )\n",
    "\n",
    "# # set the hyperparameters\n",
    "# dt_estimator.set_hyperparameters(\n",
    "#     max_leaf_nodes=30\n",
    "# )\n",
    "\n",
    "# # fit the model\n",
    "# dt_estimator.fit({'train': train_data})\n",
    "\n",
    "# # deploy the model to an endpoint\n",
    "# predictor = dt_estimator.deploy(\n",
    "#     initial_instance_count=1,\n",
    "#     instance_type='ml.m4.xlarge',\n",
    "#     endpoint_name='decision-tree-regressor-endpoint'\n",
    "# )\n"
   ]
  },
  {
   "cell_type": "code",
   "execution_count": null,
   "id": "cf463aa2",
   "metadata": {},
   "outputs": [],
   "source": []
  },
  {
   "cell_type": "code",
   "execution_count": null,
   "id": "a3f61efc",
   "metadata": {},
   "outputs": [],
   "source": []
  },
  {
   "cell_type": "code",
   "execution_count": null,
   "id": "97a78568",
   "metadata": {},
   "outputs": [],
   "source": []
  },
  {
   "cell_type": "code",
   "execution_count": null,
   "id": "51aff9ac",
   "metadata": {},
   "outputs": [],
   "source": []
  },
  {
   "cell_type": "code",
   "execution_count": null,
   "id": "7adbd029",
   "metadata": {},
   "outputs": [],
   "source": []
  },
  {
   "cell_type": "code",
   "execution_count": null,
   "id": "3400e4d7",
   "metadata": {},
   "outputs": [],
   "source": []
  },
  {
   "cell_type": "code",
   "execution_count": null,
   "id": "c471c352",
   "metadata": {},
   "outputs": [],
   "source": []
  },
  {
   "cell_type": "code",
   "execution_count": null,
   "id": "e3ecf136",
   "metadata": {},
   "outputs": [],
   "source": []
  },
  {
   "cell_type": "code",
   "execution_count": null,
   "id": "064c3e69",
   "metadata": {},
   "outputs": [],
   "source": [
    "from sklearn.ensemble import RandomForestRegressor\n",
    "from sklearn.ensemble import GradientBoostingRegressor\n",
    "from sklearn import svm\n",
    "from sklearn.tree import DecisionTreeRegressor\n",
    "\n",
    "models = [\n",
    "    GradientBoostingRegressor(n_estimators=200, max_depth=3, random_state=0),\n",
    "     RandomForestRegressor(n_estimators=200, max_depth=3, random_state=0),\n",
    "    svm.SVR(),\n",
    "   DecisionTreeRegressor()\n",
    "]"
   ]
  },
  {
   "cell_type": "code",
   "execution_count": null,
   "id": "fea80aa4",
   "metadata": {},
   "outputs": [],
   "source": [
    "model_train=list(map(compare_models,models)) "
   ]
  },
  {
   "cell_type": "code",
   "execution_count": null,
   "id": "fcb54def",
   "metadata": {},
   "outputs": [],
   "source": [
    "print(*model_train, sep = \"\\n\")"
   ]
  },
  {
   "cell_type": "code",
   "execution_count": null,
   "id": "d78206af",
   "metadata": {},
   "outputs": [],
   "source": [
    "yield_df_onehot = yield_df_onehot.drop(['Year'], axis=1)"
   ]
  },
  {
   "cell_type": "code",
   "execution_count": null,
   "id": "a5e2dc49",
   "metadata": {},
   "outputs": [],
   "source": [
    "yield_df_onehot.head()"
   ]
  },
  {
   "cell_type": "code",
   "execution_count": null,
   "id": "e8b1f294",
   "metadata": {},
   "outputs": [],
   "source": [
    "#setting test data to columns from dataframe and excluding 'hg/ha_yield' values where ML model should be predicting \n",
    "\n",
    "test_df=pd.DataFrame(test_data,columns=yield_df_onehot.loc[:, yield_df_onehot.columns != 'hg/ha_yield'].columns) \n",
    "\n",
    "# using stack function to return a reshaped DataFrame by pivoting the columns of the current dataframe\n",
    "\n",
    "cntry=test_df[[col for col in test_df.columns if 'Country' in col]].stack()[test_df[[col for col in test_df.columns if 'Country' in col]].stack()>0]\n",
    "cntrylist=list(pd.DataFrame(cntry).index.get_level_values(1))\n",
    "countries=[i.split(\"_\")[1] for i in cntrylist]\n",
    "itm=test_df[[col for col in test_df.columns if 'Item' in col]].stack()[test_df[[col for col in test_df.columns if 'Item' in col]].stack()>0]\n",
    "itmlist=list(pd.DataFrame(itm).index.get_level_values(1))\n",
    "items=[i.split(\"_\")[1] for i in itmlist]"
   ]
  },
  {
   "cell_type": "code",
   "execution_count": null,
   "id": "b67debd4",
   "metadata": {},
   "outputs": [],
   "source": [
    "test_df.head()"
   ]
  },
  {
   "cell_type": "code",
   "execution_count": null,
   "id": "b0821c89",
   "metadata": {},
   "outputs": [],
   "source": [
    "test_df.drop([col for col in test_df.columns if 'Item' in col],axis=1,inplace=True)\n",
    "test_df.drop([col for col in test_df.columns if 'Country' in col],axis=1,inplace=True)\n",
    "test_df.head()"
   ]
  },
  {
   "cell_type": "code",
   "execution_count": null,
   "id": "25b95960",
   "metadata": {},
   "outputs": [],
   "source": [
    "test_df['Country']=countries\n",
    "test_df['Item']=items\n",
    "test_df.head()"
   ]
  },
  {
   "cell_type": "code",
   "execution_count": null,
   "id": "3023150a",
   "metadata": {},
   "outputs": [],
   "source": [
    "dtree=DecisionTreeRegressor()\n",
    "dtreemodel=dtree.fit(train_data,train_labels)\n",
    "\n",
    "test_df[\"yield_predicted\"]= dtreemodel.predict(test_data)\n",
    "test_df[\"yield_actual\"]=pd.DataFrame(test_labels)[\"hg/ha_yield\"].tolist()\n",
    "test_group=test_df.groupby(\"Item\")\n",
    "test_group.apply(lambda x: r2_score(x.yield_actual,x.yield_predicted))"
   ]
  },
  {
   "cell_type": "code",
   "execution_count": null,
   "id": "7e6a30d8",
   "metadata": {},
   "outputs": [],
   "source": [
    "# def model_assess(model, name='Default'):\n",
    "#     model.fit(X_train, y_train)\n",
    "#     preds = model.predict(X_test)\n",
    "#     print('---', name, '---', '\\n',\n",
    "#           confusion_matrix(y_test, preds), '\\n',print(y_test,preds),'/n',\n",
    "#           'Accuracy:', round(accuracy_score(y_test, preds), 5), '\\n')\n",
    "    \n",
    "# # Random Forest\n",
    "# dtree = DecisionTreeRegressor()\n",
    "# model_assess(dtree, 'Decision Tree Regressor')\n",
    "\n"
   ]
  },
  {
   "cell_type": "code",
   "execution_count": null,
   "id": "4d0e8257",
   "metadata": {},
   "outputs": [],
   "source": []
  },
  {
   "cell_type": "code",
   "execution_count": null,
   "id": "52bffbc1",
   "metadata": {},
   "outputs": [],
   "source": [
    "import pickle\n",
    "pickle.dump(dtreemodel,open('dtree_model.pkl','wb'))"
   ]
  },
  {
   "cell_type": "code",
   "execution_count": null,
   "id": "7f2d3bc4",
   "metadata": {},
   "outputs": [],
   "source": [
    "# So let's run the model actual values against the predicted ones \n",
    "\n",
    "fig, ax = plt.subplots() \n",
    "\n",
    "ax.scatter(test_df[\"yield_actual\"], test_df[\"yield_predicted\"],edgecolors=(0, 0, 0))\n",
    "\n",
    "ax.set_xlabel('Actual')\n",
    "ax.set_ylabel('Predicted')\n",
    "ax.set_title(\"Actual vs Predicted\")\n",
    "plt.show()"
   ]
  },
  {
   "cell_type": "code",
   "execution_count": null,
   "id": "2f961c2c",
   "metadata": {},
   "outputs": [],
   "source": [
    "def adjusted_r_squared(y,yhat,x):\n",
    "    score=1- (((1-(r2_score(y,yhat)))*(len(y)-1))/(len(y)-x.shape[1]-2))\n",
    "    return score\n",
    "\n",
    "test_group.apply(lambda x: adjusted_r_squared(x.yield_actual,x.yield_predicted,x))"
   ]
  },
  {
   "cell_type": "code",
   "execution_count": null,
   "id": "35524549",
   "metadata": {},
   "outputs": [],
   "source": [
    "varimp= {'imp':dtreemodel.feature_importances_,'names':yield_df_onehot.columns[yield_df_onehot.columns!=\"hg/ha_yield\"]}"
   ]
  },
  {
   "cell_type": "code",
   "execution_count": null,
   "id": "9608ec4d",
   "metadata": {},
   "outputs": [],
   "source": [
    "a4_dims = (8.27,16.7)\n",
    "\n",
    "fig, ax = plt.subplots(figsize=a4_dims)\n",
    "df=pd.DataFrame.from_dict(varimp)\n",
    "df.sort_values(ascending=False,by=[\"imp\"],inplace=True)\n",
    "df=df.dropna()\n",
    "sns.barplot(x=\"imp\",y=\"names\",palette=\"vlag\",data=df,orient=\"h\",ax=ax);"
   ]
  },
  {
   "cell_type": "code",
   "execution_count": null,
   "id": "087ce52e",
   "metadata": {},
   "outputs": [],
   "source": [
    "#7 most important factors that affect crops \n",
    "a4_dims = (16.7, 8.27)\n",
    "\n",
    "fig, ax = plt.subplots(figsize=a4_dims)\n",
    "df=pd.DataFrame.from_dict(varimp)\n",
    "df.sort_values(ascending=False,by=[\"imp\"],inplace=True)\n",
    "df=df.dropna()\n",
    "df=df.nlargest(7, 'imp')\n",
    "sns.barplot(x=\"imp\",y=\"names\",palette=\"vlag\",data=df,orient=\"h\",ax=ax);"
   ]
  },
  {
   "cell_type": "code",
   "execution_count": null,
   "id": "077accf8",
   "metadata": {},
   "outputs": [],
   "source": [
    "#Boxplot that shows yield for each item \n",
    "a4_dims = (16.7, 8.27)\n",
    "\n",
    "fig, ax = plt.subplots(figsize=a4_dims)\n",
    "sns.boxplot(x=\"Item\",y=\"hg/ha_yield\",palette=\"vlag\",data=yield_df_updated,ax=ax);"
   ]
  },
  {
   "cell_type": "code",
   "execution_count": null,
   "id": "fc385ceb",
   "metadata": {},
   "outputs": [],
   "source": [
    "# try:\n",
    "#   urllib.request.urlretrieve (\"https://www.kaggle.com/code/mdabidalam/climate-change-impact-on-yield-eda-viz-20349/input?select=yield_df.csv\", \"yield_df.csv\")\n",
    "#   print('Success: downloaded yield_df.csv.')\n",
    "# except Exception as e:\n",
    "#   print('Data load error: ',e)\n",
    "\n",
    "# try:\n",
    "#   sage_yield_df = pd.read_csv('s3://dsde-sireesha-chimbili/yield_df.csv')\n",
    "#   print('Success: Data loaded into dataframe.')\n",
    "# except Exception as e:\n",
    "#     print('Data load error: ',e)"
   ]
  },
  {
   "cell_type": "code",
   "execution_count": null,
   "id": "b67fc5d1",
   "metadata": {},
   "outputs": [],
   "source": []
  }
 ],
 "metadata": {
  "kernelspec": {
   "display_name": "Python 3",
   "language": "python",
   "name": "python3"
  },
  "language_info": {
   "codemirror_mode": {
    "name": "ipython",
    "version": 3
   },
   "file_extension": ".py",
   "mimetype": "text/x-python",
   "name": "python",
   "nbconvert_exporter": "python",
   "pygments_lexer": "ipython3",
   "version": "3.11.1"
  }
 },
 "nbformat": 4,
 "nbformat_minor": 5
}
